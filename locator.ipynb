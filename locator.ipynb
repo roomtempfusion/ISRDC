{
 "cells": [
  {
   "cell_type": "code",
   "id": "initial_id",
   "metadata": {
    "collapsed": true
   },
   "source": [
    "import pandas as pd\n",
    "from geopy.geocoders import Nominatim"
   ],
   "outputs": [],
   "execution_count": null
  },
  {
   "metadata": {},
   "cell_type": "code",
   "source": [
    "# Intended to read processed file export from SQL database but will work with minor modifications otherwise\n",
    "df = pd.read_csv('Institutions.csv', encoding='ISO-8859-1')\n",
    "\n",
    "geolocator = Nominatim(user_agent=\"my_geocoder\")\n",
    "\n",
    "def get_coords(loc):\n",
    "    location = geolocator.geocode(loc)\n",
    "    print(loc)\n",
    "    if location is None:\n",
    "        return None\n",
    "    return location.latitude, location.longitude\n"
   ],
   "id": "5d58a803bd0fa2dc",
   "outputs": [],
   "execution_count": null
  },
  {
   "metadata": {},
   "cell_type": "code",
   "source": "coords_tuple = df.apply(lambda row: get_coords({'country': row.Country, 'city': row.City}), axis=1)",
   "id": "81bd7f7f34f5ebbe",
   "outputs": [],
   "execution_count": null
  },
  {
   "metadata": {},
   "cell_type": "code",
   "source": [
    "coords_df = pd.DataFrame(coords_tuple)\n",
    "coords_df"
   ],
   "id": "205929d3f68b9789",
   "outputs": [],
   "execution_count": null
  },
  {
   "metadata": {},
   "cell_type": "code",
   "source": "coords_df.columns = ['coord']",
   "id": "69c8a110e51be71e",
   "outputs": [],
   "execution_count": null
  },
  {
   "metadata": {},
   "cell_type": "code",
   "source": [
    "coords_df['lat'] = coords_df.coord.apply(lambda x: x[0] if x is not None and ~pd.isna(x) else None)\n",
    "coords_df['lat']"
   ],
   "id": "d4b3a096f5038c02",
   "outputs": [],
   "execution_count": null
  },
  {
   "metadata": {},
   "cell_type": "code",
   "source": [
    "coords_df['long'] = coords_df.coord.apply(lambda x: x[1] if x is not None and ~pd.isna(x) else None)\n",
    "coords_df['long']"
   ],
   "id": "77788f1a407f2e80",
   "outputs": [],
   "execution_count": null
  },
  {
   "metadata": {},
   "cell_type": "code",
   "source": [
    "df['lat'] = coords_df.lat\n",
    "df['long'] = coords_df.long\n",
    "df"
   ],
   "id": "7c04ebe029e64ca6",
   "outputs": [],
   "execution_count": null
  },
  {
   "metadata": {},
   "cell_type": "code",
   "source": "df.to_csv('Institutions.csv', index=False)",
   "id": "93e6eb030eb8e49",
   "outputs": [],
   "execution_count": null
  },
  {
   "metadata": {},
   "cell_type": "code",
   "source": [
    "df = pd.read_csv('data (1).csv')\n",
    "for i in range(2, 87):\n",
    "    print(i)\n",
    "    new_df = pd.read_csv(f'data ({i}).csv')\n",
    "    df = pd.concat([df, new_df])\n",
    "    \n",
    "df.drop_duplicates(inplace=True)\n",
    "df"
   ],
   "id": "a6c893874bb7c4f1",
   "outputs": [],
   "execution_count": null
  },
  {
   "metadata": {},
   "cell_type": "code",
   "source": "df.to_csv('data.csv', index=False)",
   "id": "bf36b51a4e21957c",
   "outputs": [],
   "execution_count": null
  }
 ],
 "metadata": {
  "kernelspec": {
   "display_name": "Python 3",
   "language": "python",
   "name": "python3"
  },
  "language_info": {
   "codemirror_mode": {
    "name": "ipython",
    "version": 2
   },
   "file_extension": ".py",
   "mimetype": "text/x-python",
   "name": "python",
   "nbconvert_exporter": "python",
   "pygments_lexer": "ipython2",
   "version": "2.7.6"
  }
 },
 "nbformat": 4,
 "nbformat_minor": 5
}
